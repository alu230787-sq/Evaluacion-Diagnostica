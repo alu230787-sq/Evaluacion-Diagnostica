{
  "nbformat": 4,
  "nbformat_minor": 0,
  "metadata": {
    "colab": {
      "provenance": [],
      "authorship_tag": "ABX9TyOC2HXspWelNaU7Y+z0HQf3",
      "include_colab_link": true
    },
    "kernelspec": {
      "name": "python3",
      "display_name": "Python 3"
    },
    "language_info": {
      "name": "python"
    }
  },
  "cells": [
    {
      "cell_type": "markdown",
      "metadata": {
        "id": "view-in-github",
        "colab_type": "text"
      },
      "source": [
        "<a href=\"https://colab.research.google.com/github/alu230787-sq/Evaluacion-Diagnostica/blob/main/EvaluacionDiagnosticaAJLS.ipynb\" target=\"_parent\"><img src=\"https://colab.research.google.com/assets/colab-badge.svg\" alt=\"Open In Colab\"/></a>"
      ]
    },
    {
      "cell_type": "markdown",
      "source": [
        "Programa1"
      ],
      "metadata": {
        "id": "Adlc3XfG13gS"
      }
    },
    {
      "cell_type": "code",
      "execution_count": 1,
      "metadata": {
        "colab": {
          "base_uri": "https://localhost:8080/"
        },
        "id": "Bw019a7zz1OE",
        "outputId": "b7acff0c-5e98-431d-f736-62de4cfe5405"
      },
      "outputs": [
        {
          "output_type": "stream",
          "name": "stdout",
          "text": [
            "Ingresa tu nombre:Angela\n",
            "Ingesa primer apellido: Lira\n",
            "Ingresa tu segundo apellido: Sandate\n",
            "Angela   Lira   Sandate\n"
          ]
        }
      ],
      "source": [
        "nombre=(input(\"Ingresa tu nombre:\"))\n",
        "apellido1=(input(\"Ingesa primer apellido: \"))\n",
        "apellido2=(input(\"Ingresa tu segundo apellido: \"))\n",
        "print(nombre,\" \",apellido1,\" \",apellido2)\n",
        ""
      ]
    },
    {
      "cell_type": "markdown",
      "source": [
        "Programa2"
      ],
      "metadata": {
        "id": "2Qe6DonT2Ba1"
      }
    },
    {
      "cell_type": "code",
      "source": [
        "num1=float(input(\"Ingresa el primer numero: \"))\n",
        "num2=float(input(\"Ingresa el segundo numero: \"))\n",
        "print(\"La suma es: \",num1+num2)"
      ],
      "metadata": {
        "colab": {
          "base_uri": "https://localhost:8080/"
        },
        "id": "syo5z6iw2C97",
        "outputId": "ef8def37-0d42-462e-d23b-5bac788b8b3e"
      },
      "execution_count": 9,
      "outputs": [
        {
          "output_type": "stream",
          "name": "stdout",
          "text": [
            "Ingresa el primer numero: 14.4\n",
            "Ingresa el segundo numero: 14.4\n",
            "La suma es:  28.8\n"
          ]
        }
      ]
    },
    {
      "cell_type": "markdown",
      "source": [
        "Programa 3"
      ],
      "metadata": {
        "id": "D2mZfRLH6G29"
      }
    },
    {
      "cell_type": "code",
      "source": [
        "pi=3.1416\n",
        "radio=float(input(\"Ingresa el radio de tu cicrulo: \"))\n",
        "print(\"El area del circulo es: \",pi*radio**2)\n"
      ],
      "metadata": {
        "colab": {
          "base_uri": "https://localhost:8080/"
        },
        "id": "Mzz7uGmB5H8T",
        "outputId": "978069b3-d9aa-4516-9fd0-6f7be0fe63ce"
      },
      "execution_count": 11,
      "outputs": [
        {
          "output_type": "stream",
          "name": "stdout",
          "text": [
            "Ingresa el radio de tu cicrulo: 10\n",
            "El area del circulo es:  314.15999999999997\n"
          ]
        }
      ]
    },
    {
      "cell_type": "markdown",
      "source": [
        "db.carros.find({modelo: MOBI})"
      ],
      "metadata": {
        "id": "wtZHwul_61G2"
      }
    }
  ]
}